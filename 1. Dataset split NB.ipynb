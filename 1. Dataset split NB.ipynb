{
 "cells": [
  {
   "cell_type": "markdown",
   "id": "409bcacb",
   "metadata": {},
   "source": [
    "# Dataset split"
   ]
  },
  {
   "cell_type": "code",
   "execution_count": 4,
   "id": "a6668093",
   "metadata": {},
   "outputs": [],
   "source": [
    "import random\n",
    "import shutil\n",
    "import os\n",
    "\n",
    "def split_list(l, ratio):\n",
    "    random.shuffle(l)\n",
    "    return l[:int(len(l)*ratio[0])], l[int(len(l)*ratio[0]):int(len(l)*(ratio[0]+ratio[1]))], l[int(len(l)*(ratio[0]+ratio[1])):]"
   ]
  },
  {
   "cell_type": "code",
   "execution_count": 19,
   "id": "a4b6282f",
   "metadata": {},
   "outputs": [],
   "source": [
    "# Delete the data folder if it already exists, so that no duplication happens\n",
    "if os.path.exists('../data'):\n",
    "    shutil.rmtree('../data')"
   ]
  },
  {
   "cell_type": "markdown",
   "id": "dd629f0d",
   "metadata": {},
   "source": [
    "## Main cell that performs data splitting"
   ]
  },
  {
   "cell_type": "code",
   "execution_count": 20,
   "id": "340df7a1",
   "metadata": {},
   "outputs": [],
   "source": [
    "img_names = os.listdir(os.path.join('../dataset', 'all_images'))\n",
    "\n",
    "train, validation, test = split_list(img_names, (0.8, 0.1, 0.1))\n",
    "\n",
    "# Create folder named data\n",
    "if not os.path.exists('data'):\n",
    "    os.makedirs('data')\n",
    "\n",
    "# Create the directories inside data folder named train, validation and test\n",
    "os.makedirs(os.path.join('data', 'train'))\n",
    "os.makedirs(os.path.join('data', 'validation'))\n",
    "os.makedirs(os.path.join('data', 'test'))\n",
    "\n",
    "# Create the directories inside train, validation and test folders named images and labels\n",
    "os.makedirs(os.path.join('data', 'train', 'images'))\n",
    "os.makedirs(os.path.join('data', 'train', 'labels'))\n",
    "os.makedirs(os.path.join('data', 'validation', 'images'))\n",
    "os.makedirs(os.path.join('data', 'validation', 'labels'))\n",
    "os.makedirs(os.path.join('data', 'test', 'images'))\n",
    "os.makedirs(os.path.join('data', 'test', 'labels'))\n",
    "\n",
    "# Folder with all the images in total\n",
    "img_folder = os.path.join('../dataset', 'all_images')\n",
    "# Folder with all the labels/annotations per images in .txt format\n",
    "label_folder = os.path.join('../obj_det_stuff', 'bbox')\n",
    "\n",
    "# Copy the images and labels to the corresponding folders\n",
    "for img in train:\n",
    "    shutil.copy(os.path.join(img_folder, img), os.path.join('data', 'train', 'images'))\n",
    "    shutil.copy(os.path.join(label_folder, img[:-4]+'.txt'), os.path.join('data', 'train', 'labels'))\n",
    "\n",
    "for img in validation:\n",
    "    shutil.copy(os.path.join(img_folder, img), os.path.join('data', 'validation', 'images'))\n",
    "    shutil.copy(os.path.join(label_folder, img[:-4]+'.txt'), os.path.join('data', 'validation', 'labels'))\n",
    "\n",
    "for img in test:\n",
    "    shutil.copy(os.path.join(img_folder, img), os.path.join('data', 'test', 'images'))\n",
    "    shutil.copy(os.path.join(label_folder, img[:-4]+'.txt'), os.path.join('data', 'test', 'labels'))"
   ]
  },
  {
   "cell_type": "markdown",
   "id": "9c6f4470",
   "metadata": {},
   "source": [
    "## Check if in txt exists for each image in train folder"
   ]
  },
  {
   "cell_type": "code",
   "execution_count": 2,
   "id": "14e89331",
   "metadata": {},
   "outputs": [],
   "source": [
    "for img in os.listdir(os.path.join('data', 'train', 'images')):\n",
    "    if not os.path.exists(os.path.join('data', 'train', 'labels', img[:-4]+'.txt')):\n",
    "        print('No txt file for image: {}'.format(img))"
   ]
  },
  {
   "cell_type": "markdown",
   "id": "499dce4d",
   "metadata": {},
   "source": [
    "## Check if image exists for each txt in train folder"
   ]
  },
  {
   "cell_type": "code",
   "execution_count": 4,
   "id": "edc7d9d9",
   "metadata": {},
   "outputs": [],
   "source": [
    "for txt in os.listdir(os.path.join('data', 'train', 'labels')):\n",
    "    if not os.path.exists(os.path.join('data', 'train', 'images', txt[:-4]+'.png')):\n",
    "        print('No image file for txt: {}'.format(txt))"
   ]
  }
 ],
 "metadata": {
  "kernelspec": {
   "display_name": "Python 3 (ipykernel)",
   "language": "python",
   "name": "python3"
  },
  "language_info": {
   "codemirror_mode": {
    "name": "ipython",
    "version": 3
   },
   "file_extension": ".py",
   "mimetype": "text/x-python",
   "name": "python",
   "nbconvert_exporter": "python",
   "pygments_lexer": "ipython3",
   "version": "3.9.12"
  }
 },
 "nbformat": 4,
 "nbformat_minor": 5
}
