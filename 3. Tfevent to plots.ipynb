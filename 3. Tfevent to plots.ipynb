{
 "cells": [
  {
   "cell_type": "markdown",
   "id": "69b3dcf1",
   "metadata": {},
   "source": [
    "## Important libraries"
   ]
  },
  {
   "cell_type": "code",
   "execution_count": 244,
   "id": "14333c29",
   "metadata": {},
   "outputs": [],
   "source": [
    "import pandas as pd\n",
    "import matplotlib.pyplot as plt\n",
    "%matplotlib inline\n",
    "\n",
    "from matplotlib import font_manager\n",
    "\n",
    "font_path = 'C://Users//amita//AppData//Local//Microsoft//Windows//Fonts/Barlow-Regular.ttf'  # Your font path goes here\n",
    "font_manager.fontManager.addfont(font_path)\n",
    "prop = font_manager.FontProperties(fname=font_path)\n",
    "\n",
    "plt.rcParams['font.family'] = 'sans-serif'\n",
    "plt.rcParams['font.sans-serif'] = prop.get_name()\n",
    "\n",
    "from tensorboard.backend.event_processing.event_accumulator import EventAccumulator"
   ]
  },
  {
   "cell_type": "markdown",
   "id": "02478018",
   "metadata": {},
   "source": [
    "## Code below converts tensorflow events file into a pandas dataframe"
   ]
  },
  {
   "cell_type": "code",
   "execution_count": 253,
   "id": "d0569858",
   "metadata": {},
   "outputs": [],
   "source": [
    "def tflog2pandas(path: str) -> pd.DataFrame:\n",
    "    \"\"\"Converts single tensorflow log file to pandas DataFrame.\n",
    "\n",
    "    Parameters\n",
    "    ----------\n",
    "    path : str\n",
    "        path to tensorflow log file\n",
    "\n",
    "    Returns\n",
    "    -------\n",
    "    pd.DataFrame\n",
    "        converted dataframe\n",
    "    \"\"\"\n",
    "    runlog_data = pd.DataFrame({\"metric\": [], \"value\": [], \"step\": []})\n",
    "\n",
    "    event_acc = EventAccumulator(path)\n",
    "    event_acc.Reload()\n",
    "        \n",
    "    tags = event_acc.Tags()[\"scalars\"]\n",
    "    \n",
    "    for tag in tags:\n",
    "        event_list = event_acc.Scalars(tag)\n",
    "        values = list(map(lambda x: x.value, event_list))\n",
    "        step = list(map(lambda x: x.step, event_list))\n",
    "        r = {\"metric\": [tag] * len(step), \"value\": values, \"step\": step}\n",
    "        r = pd.DataFrame(r)\n",
    "        runlog_data = pd.concat([runlog_data, r])\n",
    "\n",
    "    return runlog_data"
   ]
  },
  {
   "cell_type": "markdown",
   "id": "c5806673",
   "metadata": {},
   "source": [
    "## Code below will get all the metrics and their plots and save it in a directory"
   ]
  },
  {
   "cell_type": "code",
   "execution_count": 260,
   "id": "e0e64154",
   "metadata": {
    "scrolled": true
   },
   "outputs": [],
   "source": [
    "def get_plot(df, input_metric = 'metrics/precision', smoothing = 0.5, save_dir = 'plots/training_plots'):\n",
    "    temp_df = log_df[log_df['metric']==input_metric][['step', 'value']]\n",
    "    temp_df.set_index('step')\n",
    "        \n",
    "    fig = plt.figure(figsize=(7,6), dpi=300)\n",
    "    p1 = plt.plot(temp_df['value'], lw=2, c='#ED7950', alpha=0.5, ls='--', label='original')\n",
    "    if smoothing>0:\n",
    "        p2 = plt.plot(temp_df[['value']].ewm(alpha=(1 - smoothing)).mean(), 'o', \n",
    "                 ls='-', ms=8, markevery=[-1], c=\"#ED7950\")\n",
    "        p3 = plt.plot(temp_df[['value']].ewm(alpha=(1 - smoothing)).mean(), c=\"#ED7950\", label='smoothened')\n",
    "    plt.xlabel('Epoch', labelpad=6, fontsize=17)    \n",
    "    plt.title(input_metric, fontsize=24, pad=5)\n",
    "    plt.minorticks_on()\n",
    "    plt.grid(visible=True, which='major', axis='both')\n",
    "    plt.tick_params(size=6, labelsize=17)\n",
    "    plt.legend(frameon=True, loc='best', fontsize=14)\n",
    "    fig.savefig(f\"{save_dir}/{input_metric.replace('/','_').replace(':', '_')}.png\")\n",
    "    plt.close()\n",
    "\n",
    "events_file = 'events.out.tfevents.1671505893.1883a359b2f3.20572.0'\n",
    "\n",
    "log_df = tflog2pandas(events_file)\n",
    "\n",
    "for val in log_df.metric.unique():\n",
    "    if val.startswith('x'):\n",
    "        continue\n",
    "    get_plot(log_df, val)"
   ]
  },
  {
   "cell_type": "code",
   "execution_count": null,
   "id": "e7d6f8a9",
   "metadata": {},
   "outputs": [],
   "source": []
  }
 ],
 "metadata": {
  "kernelspec": {
   "display_name": "tf",
   "language": "python",
   "name": "tf"
  },
  "language_info": {
   "codemirror_mode": {
    "name": "ipython",
    "version": 3
   },
   "file_extension": ".py",
   "mimetype": "text/x-python",
   "name": "python",
   "nbconvert_exporter": "python",
   "pygments_lexer": "ipython3",
   "version": "3.9.13"
  }
 },
 "nbformat": 4,
 "nbformat_minor": 5
}
